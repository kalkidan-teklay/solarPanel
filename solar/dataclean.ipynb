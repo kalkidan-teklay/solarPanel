{
 "cells": [
  {
   "cell_type": "code",
   "execution_count": 2,
   "metadata": {},
   "outputs": [
    {
     "name": "stdout",
     "output_type": "stream",
     "text": [
      "Data cleaned and saved to 'Cleaned_Plant_2_Data.csv'\n"
     ]
    }
   ],
   "source": [
    "import pandas as pd\n",
    "\n",
    "weather2 = pd.read_csv('Plant_2_Weather_Sensor_Data.csv')\n",
    "plant2 = pd.read_csv('Plant_2_Generation_Data.csv/Plant_2_Generation_Data.csv')\n",
    "\n",
    "\n",
    "plant2['DATE_TIME'] = pd.to_datetime(plant2['DATE_TIME'])\n",
    "weather2['DATE_TIME'] = pd.to_datetime(weather2['DATE_TIME'])\n",
    "\n",
    "\n",
    "merged_data = plant2.merge(weather2, how='outer', on='DATE_TIME')\n",
    "\n",
    "\n",
    "merged_data = merged_data.drop(columns=['SOURCE_KEY_x', 'SOURCE_KEY_y', 'PLANT_ID_x', 'PLANT_ID_y','DC_POWER', 'DAILY_YIELD', 'TOTAL_YIELD'])\n",
    "\n",
    "merged_data = merged_data.dropna()\n",
    "merged_data = merged_data.drop_duplicates()\n",
    "\n",
    "\n",
    "merged_data = merged_data[merged_data['AC_POWER'] > 0]\n",
    "\n",
    "merged_data['hour'] = merged_data['DATE_TIME'].dt.hour\n",
    "merged_data['day'] = merged_data['DATE_TIME'].dt.day\n",
    "merged_data['month'] = merged_data['DATE_TIME'].dt.month\n",
    "\n",
    "merged_data = merged_data.drop(columns=['DATE_TIME', 'year'], errors='ignore')\n",
    "\n",
    "merged_data['temp_irradiation'] = merged_data['AMBIENT_TEMPERATURE'] * merged_data['IRRADIATION']\n",
    "merged_data['module_temp_irradiation'] = merged_data['MODULE_TEMPERATURE'] * merged_data['IRRADIATION']\n",
    "merged_data.to_csv('Cleaned_Plant_2_Data.csv', index=False)\n",
    "print(\"Data cleaned and saved to 'Cleaned_Plant_2_Data.csv'\")\n"
   ]
  }
 ],
 "metadata": {
  "kernelspec": {
   "display_name": "Python 3",
   "language": "python",
   "name": "python3"
  },
  "language_info": {
   "codemirror_mode": {
    "name": "ipython",
    "version": 3
   },
   "file_extension": ".py",
   "mimetype": "text/x-python",
   "name": "python",
   "nbconvert_exporter": "python",
   "pygments_lexer": "ipython3",
   "version": "3.11.0"
  },
  "orig_nbformat": 4
 },
 "nbformat": 4,
 "nbformat_minor": 2
}
